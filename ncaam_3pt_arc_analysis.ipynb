{
 "cells": [
  {
   "cell_type": "markdown",
   "metadata": {},
   "source": [
    "## The influence of extending the 3-point Arc on scoring in NCAA Men's Baksetball."
   ]
  },
  {
   "cell_type": "markdown",
   "metadata": {},
   "source": [
    "According to the list of NCAA rule changes in this wikipedia [article](https://en.wikipedia.org/wiki/College_basketball), \"a three-point shot was introduced, with the line a uniform 19 feet 9 inches (6.02 m) from the center of the basket,\" for the 1986-1987 season.\n",
    "\n",
    "For the 2008-2009 season the \"three-point arc extended to 20 feet 9 inches (6.32 m) from the center of the basket.\"\n",
    "\n",
    "In 2019-2020 \"the three-point arc was extended to the FIBA distance of 6.75 meters (22 ft 2 in) from the center of the basket and 6.6 meters (21 ft 8 in) in the corners. This change took immediate effect in Division I, and will take effect in Divisions II and III in 2020–21. \"\n",
    "\n",
    "Intuitively, I expect that upon comparing average home and away team scoring in a season immediately before an arc extension to the average scoring in the season with the new arc distance, that scoring would decrease. However, I wanted to verify if that was actually the case, and if the change was *statistically significant* or attributable to the random variations inherent in sports data. Finally, I will check the game total wagering market data for any trend towards the *under* in the post-arc-extension season. I am only looking at the effect on team level scoring here. \n",
    "\n",
    "For this analysis I used the historical scores and odds datasets available [here](https://sportsbookreviewsonline.com) after removing rows with missing data and adding some extra columns to streamline the analysis."
   ]
  },
  {
   "cell_type": "code",
   "execution_count": 1,
   "metadata": {},
   "outputs": [
    {
     "data": {
      "text/html": [
       "<div>\n",
       "<style scoped>\n",
       "    .dataframe tbody tr th:only-of-type {\n",
       "        vertical-align: middle;\n",
       "    }\n",
       "\n",
       "    .dataframe tbody tr th {\n",
       "        vertical-align: top;\n",
       "    }\n",
       "\n",
       "    .dataframe thead th {\n",
       "        text-align: right;\n",
       "    }\n",
       "</style>\n",
       "<table border=\"1\" class=\"dataframe\">\n",
       "  <thead>\n",
       "    <tr style=\"text-align: right;\">\n",
       "      <th></th>\n",
       "      <th>date</th>\n",
       "      <th>away court</th>\n",
       "      <th>away team</th>\n",
       "      <th>away ml</th>\n",
       "      <th>away dec</th>\n",
       "      <th>away final</th>\n",
       "      <th>home court</th>\n",
       "      <th>home team</th>\n",
       "      <th>home ml</th>\n",
       "      <th>home dec</th>\n",
       "      <th>home final</th>\n",
       "      <th>market total</th>\n",
       "      <th>total actual</th>\n",
       "      <th>market mov</th>\n",
       "      <th>home mov actual</th>\n",
       "      <th>home win</th>\n",
       "    </tr>\n",
       "  </thead>\n",
       "  <tbody>\n",
       "    <tr>\n",
       "      <th>0</th>\n",
       "      <td>20071105</td>\n",
       "      <td>N</td>\n",
       "      <td>Maine</td>\n",
       "      <td>200</td>\n",
       "      <td>3.000</td>\n",
       "      <td>42</td>\n",
       "      <td>N</td>\n",
       "      <td>Richmond</td>\n",
       "      <td>-240</td>\n",
       "      <td>1.416667</td>\n",
       "      <td>44</td>\n",
       "      <td>127.5</td>\n",
       "      <td>86</td>\n",
       "      <td>5.5</td>\n",
       "      <td>2</td>\n",
       "      <td>1</td>\n",
       "    </tr>\n",
       "    <tr>\n",
       "      <th>1</th>\n",
       "      <td>20071105</td>\n",
       "      <td>V</td>\n",
       "      <td>TennMartin</td>\n",
       "      <td>13000</td>\n",
       "      <td>131.000</td>\n",
       "      <td>71</td>\n",
       "      <td>H</td>\n",
       "      <td>MemphisU</td>\n",
       "      <td>-39000</td>\n",
       "      <td>1.002564</td>\n",
       "      <td>102</td>\n",
       "      <td>144.0</td>\n",
       "      <td>173</td>\n",
       "      <td>35.5</td>\n",
       "      <td>31</td>\n",
       "      <td>1</td>\n",
       "    </tr>\n",
       "    <tr>\n",
       "      <th>2</th>\n",
       "      <td>20071106</td>\n",
       "      <td>N</td>\n",
       "      <td>GardnerWebb</td>\n",
       "      <td>-160</td>\n",
       "      <td>1.625</td>\n",
       "      <td>69</td>\n",
       "      <td>N</td>\n",
       "      <td>AlabamaA&amp;M</td>\n",
       "      <td>140</td>\n",
       "      <td>2.400000</td>\n",
       "      <td>55</td>\n",
       "      <td>139.5</td>\n",
       "      <td>124</td>\n",
       "      <td>-3.0</td>\n",
       "      <td>-14</td>\n",
       "      <td>0</td>\n",
       "    </tr>\n",
       "    <tr>\n",
       "      <th>3</th>\n",
       "      <td>20071106</td>\n",
       "      <td>V</td>\n",
       "      <td>CentralArkansas</td>\n",
       "      <td>3000</td>\n",
       "      <td>31.000</td>\n",
       "      <td>40</td>\n",
       "      <td>H</td>\n",
       "      <td>Kentucky</td>\n",
       "      <td>-7000</td>\n",
       "      <td>1.014286</td>\n",
       "      <td>67</td>\n",
       "      <td>134.0</td>\n",
       "      <td>107</td>\n",
       "      <td>26.5</td>\n",
       "      <td>27</td>\n",
       "      <td>1</td>\n",
       "    </tr>\n",
       "    <tr>\n",
       "      <th>4</th>\n",
       "      <td>20071106</td>\n",
       "      <td>N</td>\n",
       "      <td>Maine</td>\n",
       "      <td>105</td>\n",
       "      <td>2.050</td>\n",
       "      <td>62</td>\n",
       "      <td>N</td>\n",
       "      <td>TennMartin</td>\n",
       "      <td>-125</td>\n",
       "      <td>1.800000</td>\n",
       "      <td>66</td>\n",
       "      <td>128.0</td>\n",
       "      <td>128</td>\n",
       "      <td>1.5</td>\n",
       "      <td>4</td>\n",
       "      <td>1</td>\n",
       "    </tr>\n",
       "  </tbody>\n",
       "</table>\n",
       "</div>"
      ],
      "text/plain": [
       "       date away court        away team  away ml  away dec  away final  \\\n",
       "0  20071105          N            Maine      200     3.000          42   \n",
       "1  20071105          V       TennMartin    13000   131.000          71   \n",
       "2  20071106          N      GardnerWebb     -160     1.625          69   \n",
       "3  20071106          V  CentralArkansas     3000    31.000          40   \n",
       "4  20071106          N            Maine      105     2.050          62   \n",
       "\n",
       "  home court   home team  home ml  home dec  home final  market total  \\\n",
       "0          N    Richmond     -240  1.416667          44         127.5   \n",
       "1          H    MemphisU   -39000  1.002564         102         144.0   \n",
       "2          N  AlabamaA&M      140  2.400000          55         139.5   \n",
       "3          H    Kentucky    -7000  1.014286          67         134.0   \n",
       "4          N  TennMartin     -125  1.800000          66         128.0   \n",
       "\n",
       "   total actual  market mov  home mov actual  home win  \n",
       "0            86         5.5                2         1  \n",
       "1           173        35.5               31         1  \n",
       "2           124        -3.0              -14         0  \n",
       "3           107        26.5               27         1  \n",
       "4           128         1.5                4         1  "
      ]
     },
     "execution_count": 1,
     "metadata": {},
     "output_type": "execute_result"
    }
   ],
   "source": [
    "# import and preview the data\n",
    "import pandas as pd\n",
    "import numpy as np\n",
    "import matplotlib.pyplot as plt\n",
    "\n",
    "df = pd.read_csv('ncaam_07_20_formatted.csv')\n",
    "df.head()"
   ]
  },
  {
   "cell_type": "code",
   "execution_count": 2,
   "metadata": {},
   "outputs": [],
   "source": [
    "#extract scoring data for the 07-08, 08-09, 18-19, 19-20 seasons\n",
    "a_data_0708 = df[df['date']<20081100]['away final'].values\n",
    "a_avg_0708 = a_data_0708.mean() # the average away team score for the 2007-2008 season\n",
    "a_std_0708 = a_data_0708.std() # the standard deviation of away team scoring for the 2007-2008 season\n",
    "h_data_0708 = df[df['date']<20081100]['home final'].values \n",
    "h_avg_0708 = h_data_0708.mean() # the average home team score for the 2007-2008 season\n",
    "h_std_0708 = h_data_0708.std() # the standard deviation of home team scoring for the 2007-2008 season\n",
    "n_sam_0708 = len(df[df['date']<20081100]) # number of samples for the 2007-2008 season\n",
    "\n",
    "a_data_0809 = df[(df['date']>20081100) & (df['date']<20091100)]['away final'].values \n",
    "a_avg_0809 = a_data_0809.mean()\n",
    "a_std_0809 = a_data_0809.std()\n",
    "h_data_0809 = df[(df['date']>20081100) & (df['date']<20091100)]['home final'].values \n",
    "h_avg_0809 = h_data_0809.mean()\n",
    "h_std_0809 = h_data_0809.std()\n",
    "n_sam_0809 = len(df[(df['date']>20081100) & (df['date']<20091100)])\n",
    "\n",
    "a_data_1819 = df[(df['date']>20181100) & (df['date']<20191100)]['away final'].values \n",
    "a_avg_1819 = a_data_1819.mean()\n",
    "a_std_1819 = a_data_1819.std()\n",
    "h_data_1819 = df[(df['date']>20181100) & (df['date']<20191100)]['home final'].values \n",
    "h_avg_1819 = h_data_1819.mean()\n",
    "h_std_1819 = h_data_1819.std()\n",
    "n_sam_1819 = len(df[(df['date']>20181100) & (df['date']<20191100)])\n",
    "\n",
    "a_data_1920 = df[(df['date']>20191100) & (df['date']<20201100)]['away final'].values \n",
    "a_avg_1920 = a_data_1920.mean()\n",
    "a_std_1920 = a_data_1920.std()\n",
    "h_data_1920 = df[(df['date']>20191100) & (df['date']<20201100)]['home final'].values \n",
    "h_avg_1920 = h_data_1920.mean()\n",
    "h_std_1920 = h_data_1920.std()\n",
    "n_sam_1920 = len(df[(df['date']>20191100) & (df['date']<20201100)])"
   ]
  },
  {
   "cell_type": "code",
   "execution_count": 3,
   "metadata": {},
   "outputs": [
    {
     "data": {
      "image/png": "[encoded data removed]",
      "text/plain": [
       "<Figure size 1080x360 with 2 Axes>"
      ]
     },
     "metadata": {
      "needs_background": "light"
     },
     "output_type": "display_data"
    },
    {
     "data": {
      "image/png": "[encoded data removed]",
      "text/plain": [
       "<Figure size 1080x360 with 2 Axes>"
      ]
     },
     "metadata": {
      "needs_background": "light"
     },
     "output_type": "display_data"
    }
   ],
   "source": [
    "# do a quick visual check of the scoring distributions\n",
    "fig, axs = plt.subplots(ncols=2,sharex=True,sharey=True,figsize=(15,5),gridspec_kw=dict(width_ratios=[10,10]))\n",
    "axs[0].title.set_text('Away Scoring Histogram, 07-08 and 08-09')\n",
    "axs[0].hist(df[df['date']<20081100]['away final'], bins=24, color='blue')\n",
    "axs[0].hist(df[(df['date']>20081100) & (df['date']<20091100)]['away final'], bins=24, color='orange', alpha=0.8)\n",
    "axs[0].grid(linestyle='-', linewidth='0.5', color='black')\n",
    "axs[0].legend(labels=['07-08','08-09'])\n",
    "axs[1].title.set_text('Home Scoring Histogram, 07-08 and 08-09')\n",
    "axs[1].hist(df[df['date']<20081100]['home final'], bins=22, color='blue')\n",
    "axs[1].hist(df[(df['date']>20081100) & (df['date']<20091100)]['home final'], bins=22, color='orange', alpha=0.8)\n",
    "axs[1].grid(linestyle='-', linewidth='0.5', color='black')\n",
    "axs[1].legend(labels=['07-08','08-09'])\n",
    "plt.tight_layout()\n",
    "plt.show()\n",
    "\n",
    "fig, axs = plt.subplots(ncols=2,sharex=True,sharey=True,figsize=(15,5),gridspec_kw=dict(width_ratios=[10,10]))\n",
    "axs[0].title.set_text('Away Scoring Histogram, 18-19 and 19-20')\n",
    "axs[0].hist(df[(df['date']>20181100) & (df['date']<20191100)]['away final'], bins=20, color='blue')\n",
    "axs[0].hist(df[(df['date']>20191100) & (df['date']<20201100)]['away final'], bins=20, color='orange', alpha=0.8)\n",
    "axs[0].grid(linestyle='-', linewidth='0.5', color='black')\n",
    "axs[0].legend(labels=['18-19','19-20'])\n",
    "axs[1].title.set_text('Home Scoring Histogram, 18-19 and 19-20')\n",
    "axs[1].hist(df[(df['date']>20181100) & (df['date']<20191100)]['home final'], bins=24, color='blue')\n",
    "axs[1].hist(df[(df['date']>20191100) & (df['date']<20201100)]['home final'], bins=22, color='orange', alpha=0.8)\n",
    "axs[1].grid(linestyle='-', linewidth='0.5', color='black')\n",
    "axs[1].legend(labels=['18-19','19-20'])\n",
    "plt.tight_layout()\n",
    "plt.show()"
   ]
  },
  {
   "cell_type": "markdown",
   "metadata": {},
   "source": [
    "Upon visually inspecting the scoring distributions, they appear similar but the seasons after the arc extensions (shown in orange) exhibit a slight leftward shift of the center of the distribution. This is most visually prominent in the \"Home Scoring Histogram, 18-19 and 19-20,\" on the bottom right. \n",
    "\n",
    "Let's calculate the actual statistics needed to check for a significant change in scoring between these seasons."
   ]
  },
  {
   "cell_type": "code",
   "execution_count": 4,
   "metadata": {},
   "outputs": [
    {
     "name": "stdout",
     "output_type": "stream",
     "text": [
      "2007-2008 season scoring stats:\n",
      "away avg: 66.03, away std: 12.23, home avg: 71.55, home std: 12.21, n=3466\n",
      "2008-2009 season scoring stats:\n",
      "away avg: 65.64, away std: 11.88, home avg: 70.43, home std: 12.01, n=3375\n",
      "\n",
      "change in scoring averages:\n",
      "away scoring: -0.40 points, home scoring: -1.11 points\n",
      "\n",
      "\n",
      "2018-2019 season scoring stats:\n",
      "away avg: 69.35, away std: 11.84, home avg: 74.41, home std: 12.21, n=5569\n",
      "2019-2020 season scoring stats:\n",
      "away avg: 67.63, away std: 11.54, home avg: 72.79, home std: 11.93, n=5319\n",
      "\n",
      "change in scoring averages:\n",
      "away scoring: -1.72 points, home scoring: -1.62 points\n"
     ]
    }
   ],
   "source": [
    "print('2007-2008 season scoring stats:')\n",
    "print(f'away avg: {a_avg_0708:.2f}, away std: {a_std_0708:.2f}, home avg: {h_avg_0708:.2f}, home std: {h_std_0708:.2f}, n={n_sam_0708}')\n",
    "print('2008-2009 season scoring stats:')\n",
    "print(f'away avg: {a_avg_0809:.2f}, away std: {a_std_0809:.2f}, home avg: {h_avg_0809:.2f}, home std: {h_std_0809:.2f}, n={n_sam_0809}')\n",
    "print(f'\\nchange in scoring averages:')\n",
    "print(f'away scoring: {a_avg_0809-a_avg_0708:.2f} points, home scoring: {h_avg_0809-h_avg_0708:.2f} points')\n",
    "\n",
    "print('\\n\\n2018-2019 season scoring stats:')\n",
    "print(f'away avg: {a_avg_1819:.2f}, away std: {a_std_1819:.2f}, home avg: {h_avg_1819:.2f}, home std: {h_std_1819:.2f}, n={n_sam_1819}')\n",
    "print('2019-2020 season scoring stats:')\n",
    "print(f'away avg: {a_avg_1920:.2f}, away std: {a_std_1920:.2f}, home avg: {h_avg_1920:.2f}, home std: {h_std_1920:.2f}, n={n_sam_1920}')\n",
    "print(f'\\nchange in scoring averages:')\n",
    "print(f'away scoring: {a_avg_1920-a_avg_1819:.2f} points, home scoring: {h_avg_1920-h_avg_1819:.2f} points')"
   ]
  },
  {
   "cell_type": "markdown",
   "metadata": {},
   "source": [
    "In both cases, there was a decrease in the averages and standard deviations of scoring between the pre and post arc-extension seasons. Further, the 1 foot extension in 2008 coincided with a smaller decrease in scoring than that seen with the 2019 extension of 1 foot and 5 inches. However, suppose that the true scoring averages pre and post arc widening are the same, is it likely that we would see the differences calculated above?  \n",
    "\n",
    "To explore this, first I use the standard deviation and sample size to calculate the margin of error for each average: $z\\frac{\\sigma}{\\sqrt{n}}$"
   ]
  },
  {
   "cell_type": "code",
   "execution_count": 5,
   "metadata": {},
   "outputs": [],
   "source": [
    "z_val = 2 # 1.96 is the z value commonly used for calculating an exact 95% confidence interval\n",
    "a_moe_0708 = z_val * a_std_0708 / np.sqrt(n_sam_0708)\n",
    "h_moe_0708 = z_val * h_std_0708 / np.sqrt(n_sam_0708)\n",
    "a_moe_0809 = z_val * a_std_0809 / np.sqrt(n_sam_0809)\n",
    "h_moe_0809 = z_val * h_std_0809 / np.sqrt(n_sam_0809)\n",
    "\n",
    "a_moe_1819 = z_val * a_std_1819 / np.sqrt(n_sam_1819)\n",
    "h_moe_1819 = z_val * h_std_1819 / np.sqrt(n_sam_1819)\n",
    "a_moe_1920 = z_val * a_std_1920 / np.sqrt(n_sam_1920)\n",
    "h_moe_1920 = z_val * h_std_1920 / np.sqrt(n_sam_1920)"
   ]
  },
  {
   "cell_type": "markdown",
   "metadata": {},
   "source": [
    "Next, I calculate the margin of error of the *difference* of the averages: $\\sqrt{(moe_x)^2 + (moe_y)^2}$"
   ]
  },
  {
   "cell_type": "code",
   "execution_count": 6,
   "metadata": {},
   "outputs": [],
   "source": [
    "a_moe_diff1 = np.sqrt(a_moe_0708**2 + a_moe_0809**2)\n",
    "h_moe_diff1 = np.sqrt(h_moe_0708**2 + h_moe_0809**2)\n",
    "\n",
    "a_moe_diff2 = np.sqrt(a_moe_1819**2 + a_moe_1819**2)\n",
    "h_moe_diff2 = np.sqrt(h_moe_1920**2 + h_moe_1920**2)"
   ]
  },
  {
   "cell_type": "code",
   "execution_count": 7,
   "metadata": {},
   "outputs": [
    {
     "name": "stdout",
     "output_type": "stream",
     "text": [
      "The margin of error for the difference in average scoring between the 07-08 and 08-09 seasons:\n",
      "away: +-0.5831, home: +-0.5856\n",
      "\n",
      "The margin of error for the difference in average scoring between the 18-19 and 19-20 seasons:\n",
      "away: +-0.4489, home: +-0.4627\n"
     ]
    }
   ],
   "source": [
    "print('The margin of error for the difference in average scoring between the 07-08 and 08-09 seasons:')\n",
    "print(f'away: +-{a_moe_diff1:.4f}, home: +-{h_moe_diff1:.4f}')\n",
    "\n",
    "print('\\nThe margin of error for the difference in average scoring between the 18-19 and 19-20 seasons:')\n",
    "print(f'away: +-{a_moe_diff2:.4f}, home: +-{h_moe_diff2:.4f}')"
   ]
  },
  {
   "cell_type": "markdown",
   "metadata": {},
   "source": [
    "Looking at the 18-19 and 19-20 season comparison first, the differences in away and home scoring, -1.72 and -1.62 points respectively, are greater than the corresponding margins of error, -0.4489 and -0.4627, indicating that the decrease in scoring between those seasons is statistically significant. \n",
    "\n",
    "For the 07-08 and 08-09 comparison, we see a bigger margin of error, which is to be expected with the smaller sample sizes. The difference in away scoring of -0.40 points is smaller than the margin of error of -0.5832 points, and thus we can not rule out that this difference is due to the inherent randomness of scoring data. The home scoring decrease of -1.11 exceeds the -0.5857 margin of error, which is significant but raises another question: if the 1 foot arc extension for that season had a real influence on scoring, why would it cause a significant decrease in home scoring, but not away scoring? I suspect an exploration of team and player level data, such as 3-point shot attempts at home versus when away, would help shed light on an answer."
   ]
  },
  {
   "cell_type": "markdown",
   "metadata": {},
   "source": [
    "Next, let's look at the wagering market results for game totals."
   ]
  },
  {
   "cell_type": "code",
   "execution_count": 8,
   "metadata": {},
   "outputs": [],
   "source": [
    "overs_0708 = len(df[(df['date']<20081100) & (df['total actual']>df['market total'])]) / n_sam_0708\n",
    "unders_0708 = len(df[(df['date']<20081100) & (df['total actual']<df['market total'])]) / n_sam_0708\n",
    "pushes_0708 = len(df[(df['date']<20081100) & (df['total actual']==df['market total'])]) / n_sam_0708\n",
    "\n",
    "overs_0809 = len(df[(df['date']>20081100) & (df['date']<20091100) & (df['total actual']>df['market total'])]) / n_sam_0809\n",
    "unders_0809 = len(df[(df['date']>20081100) & (df['date']<20091100) & (df['total actual']<df['market total'])]) / n_sam_0809\n",
    "pushes_0809 = len(df[(df['date']>20081100) & (df['date']<20091100) & (df['total actual']==df['market total'])]) / n_sam_0809\n",
    "\n",
    "overs_1819 = len(df[(df['date']>20181100) & (df['date']<20191100) & (df['total actual']>df['market total'])]) / n_sam_1819\n",
    "unders_1819 = len(df[(df['date']>20181100) & (df['date']<20191100) & (df['total actual']<df['market total'])]) / n_sam_1819\n",
    "pushes_1819 = len(df[(df['date']>20181100) & (df['date']<20191100) & (df['total actual']==df['market total'])]) / n_sam_1819\n",
    "\n",
    "overs_1920 = len(df[(df['date']>20191100) & (df['date']<20201100) & (df['total actual']>df['market total'])]) / n_sam_1920\n",
    "unders_1920 = len(df[(df['date']>20191100) & (df['date']<20201100) & (df['total actual']<df['market total'])]) / n_sam_1920\n",
    "pushes_1920 = len(df[(df['date']>20191100) & (df['date']<20201100) & (df['total actual']==df['market total'])]) / n_sam_1920"
   ]
  },
  {
   "cell_type": "code",
   "execution_count": 9,
   "metadata": {},
   "outputs": [
    {
     "name": "stdout",
     "output_type": "stream",
     "text": [
      "proportions of game total wager results for the 2007-2008 season:\n",
      "overs: 0.4879, unders: 0.4977, pushes: 0.0144\n",
      "proportions of game total wager results for the 2008-2009 season:\n",
      "overs: 0.4919, unders: 0.4972, pushes: 0.0110\n",
      "\n",
      "\n",
      "proportions of game total wager results for the 2018-2019 season:\n",
      "overs: 0.4742, unders: 0.5121, pushes: 0.0136\n",
      "proportions of game total wager results for the 2019-2020 season:\n",
      "overs: 0.4956, unders: 0.4899, pushes: 0.0145\n"
     ]
    }
   ],
   "source": [
    "print(f'proportions of game total wager results for the 2007-2008 season:')\n",
    "print(f'overs: {overs_0708:.4f}, unders: {unders_0708:.4f}, pushes: {pushes_0708:.4f}')\n",
    "print(f'proportions of game total wager results for the 2008-2009 season:')\n",
    "print(f'overs: {overs_0809:.4f}, unders: {unders_0809:.4f}, pushes: {pushes_0809:.4f}')\n",
    "print(f'\\n\\nproportions of game total wager results for the 2018-2019 season:')\n",
    "print(f'overs: {overs_1819:.4f}, unders: {unders_1819:.4f}, pushes: {pushes_1819:.4f}')\n",
    "print(f'proportions of game total wager results for the 2019-2020 season:')\n",
    "print(f'overs: {overs_1920:.4f}, unders: {unders_1920:.4f}, pushes: {pushes_1920:.4f}')"
   ]
  },
  {
   "cell_type": "markdown",
   "metadata": {},
   "source": [
    "Here we can quickly see there was no increase in the proportion of totals going under in the post-arc-extension seasons. In fact, the only season with more than 50% of the totals going in either direction was a pre-extension season, 2018-2019, when 51.21% went under. Since the widely available totals price of -110 (risking \\\\$110 to win \\\\$100) requires a success rate of $\\frac{110}{(110+100)}=52.38\\%$ just to break even, the bookmaker's pricing more than covers the 51.21% of unders that season in case anyone thought to try and blindly bet the under. Out of curiosity though, let's check if the 51.21% actually represented a *trend* to the under that season.\n",
    "\n",
    "We calculate the margin of error for a proportion as follows: $z\\frac{\\sqrt{p(1-p)}}{\\sqrt{n}}$, which for the 2018-2019 season is $2\\frac{\\sqrt{0.5121(1-0.5121)}}{\\sqrt{5569}} = 0.0134$"
   ]
  },
  {
   "cell_type": "code",
   "execution_count": 10,
   "metadata": {},
   "outputs": [
    {
     "name": "stdout",
     "output_type": "stream",
     "text": [
      "0.013396265574392541\n"
     ]
    }
   ],
   "source": [
    "# verify the margin of error calculation for the proportion of 0.5121\n",
    "print(2*np.sqrt(unders_1819*(1-unders_1819))/np.sqrt(n_sam_1819))"
   ]
  },
  {
   "cell_type": "markdown",
   "metadata": {},
   "source": [
    "Since $0.5121-0.0134=0.4987$ and 0.50 is inside that range, we can conclude that the overall proportion of games that went under that season was not significantly different from a coin flip."
   ]
  }
 ],
 "metadata": {
  "kernelspec": {
   "display_name": "Python 3",
   "language": "python",
   "name": "python3"
  },
  "language_info": {
   "codemirror_mode": {
    "name": "ipython",
    "version": 3
   },
   "file_extension": ".py",
   "mimetype": "text/x-python",
   "name": "python",
   "nbconvert_exporter": "python",
   "pygments_lexer": "ipython3",
   "version": "3.7.6"
  }
 },
 "nbformat": 4,
 "nbformat_minor": 4
}
